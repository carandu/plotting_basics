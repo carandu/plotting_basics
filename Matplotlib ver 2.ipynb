{
 "cells": [
  {
   "cell_type": "code",
   "execution_count": 1,
   "metadata": {},
   "outputs": [],
   "source": [
    "import matplotlib.pyplot as plt\n",
    "import numpy as np\n",
    "import pandas as pd\n",
    "%matplotlib inline"
   ]
  },
  {
   "cell_type": "code",
   "execution_count": 2,
   "metadata": {},
   "outputs": [],
   "source": [
    "df = pd.read_csv('./data/life-expectancy-women-vs-life-expectancy-men.csv')"
   ]
  },
  {
   "cell_type": "code",
   "execution_count": 3,
   "metadata": {},
   "outputs": [
    {
     "name": "stdout",
     "output_type": "stream",
     "text": [
      "               Year           Men         Women  Total population\n",
      "count  23699.000000  15906.000000  15906.000000      2.008100e+04\n",
      "mean    1959.509431     59.477837     63.995732      2.077203e+07\n",
      "std       49.003336     11.586038     12.793337      8.400212e+07\n",
      "min     1700.000000     16.286000     22.394000      0.000000e+00\n",
      "25%     1950.000000     51.088500     54.362000      5.110000e+05\n",
      "50%     1972.000000     61.932000     66.786000      3.518000e+06\n",
      "75%     1993.000000     68.410250     74.318500      1.125366e+07\n",
      "max     2015.000000     81.084000     86.792000      1.359368e+09\n"
     ]
    }
   ],
   "source": [
    "print(df.describe())"
   ]
  },
  {
   "cell_type": "code",
   "execution_count": null,
   "metadata": {},
   "outputs": [],
   "source": [
    "print(df['Year'].dtype)"
   ]
  },
  {
   "cell_type": "code",
   "execution_count": null,
   "metadata": {},
   "outputs": [],
   "source": [
    "df4 = pd.DataFrame({\"A\":[14, 4, 5, 4, 1], \n",
    "                   \"B\":[5, 2, 54, 3, 2], \n",
    "                   \"C\":[20, 20, 7, 3, 8], \n",
    "                   \"D\":[14, 3, 6, 2, 6]})\n",
    "print(df4)"
   ]
  },
  {
   "cell_type": "code",
   "execution_count": null,
   "metadata": {},
   "outputs": [],
   "source": [
    "df4.nunique(axis = 1)"
   ]
  },
  {
   "cell_type": "code",
   "execution_count": null,
   "metadata": {},
   "outputs": [],
   "source": [
    "from scipy import stats"
   ]
  },
  {
   "cell_type": "code",
   "execution_count": null,
   "metadata": {},
   "outputs": [],
   "source": [
    "a = np.array([ 0.7972,  0.0767,  0.4383,  0.7866,  0.8091,\n",
    "...                0.1954,  0.6307,  0.6599,  0.1065,  0.0508])"
   ]
  },
  {
   "cell_type": "code",
   "execution_count": null,
   "metadata": {},
   "outputs": [],
   "source": [
    "stats.zscore(a)\n",
    "print(-1.2469956-0.0767)"
   ]
  },
  {
   "cell_type": "code",
   "execution_count": null,
   "metadata": {},
   "outputs": [],
   "source": [
    "print(df)"
   ]
  },
  {
   "cell_type": "code",
   "execution_count": null,
   "metadata": {},
   "outputs": [],
   "source": [
    "df = df.rename(columns={'Life expectancy of men (in years) (years)': 'Men', 'Life expectancy of women (in years) (years)': 'Women'})"
   ]
  },
  {
   "cell_type": "code",
   "execution_count": null,
   "metadata": {},
   "outputs": [],
   "source": [
    "df = df.rename(columns={'Total population (Gapminder)': 'Population'})"
   ]
  },
  {
   "cell_type": "code",
   "execution_count": null,
   "metadata": {},
   "outputs": [],
   "source": [
    "print(df)"
   ]
  },
  {
   "cell_type": "code",
   "execution_count": null,
   "metadata": {},
   "outputs": [],
   "source": [
    "print(df4)"
   ]
  },
  {
   "cell_type": "code",
   "execution_count": null,
   "metadata": {},
   "outputs": [],
   "source": [
    "pwd"
   ]
  },
  {
   "cell_type": "code",
   "execution_count": null,
   "metadata": {},
   "outputs": [],
   "source": [
    "plt.plot(Year, Men, color = 'blue')"
   ]
  },
  {
   "cell_type": "code",
   "execution_count": null,
   "metadata": {},
   "outputs": [],
   "source": [
    "df = df.rename(columns={'Entity': 'Country'})"
   ]
  },
  {
   "cell_type": "code",
   "execution_count": null,
   "metadata": {},
   "outputs": [],
   "source": [
    "print(df)"
   ]
  },
  {
   "cell_type": "code",
   "execution_count": null,
   "metadata": {},
   "outputs": [],
   "source": [
    "print(df['Country'].dtype)"
   ]
  },
  {
   "cell_type": "code",
   "execution_count": null,
   "metadata": {},
   "outputs": [],
   "source": [
    "print(df)"
   ]
  },
  {
   "cell_type": "code",
   "execution_count": null,
   "metadata": {},
   "outputs": [],
   "source": [
    "df_country = df.groupby('Country')"
   ]
  },
  {
   "cell_type": "code",
   "execution_count": null,
   "metadata": {},
   "outputs": [],
   "source": [
    "print(df_country)"
   ]
  },
  {
   "cell_type": "code",
   "execution_count": null,
   "metadata": {},
   "outputs": [],
   "source": [
    "df_country.first()"
   ]
  },
  {
   "cell_type": "code",
   "execution_count": null,
   "metadata": {},
   "outputs": [],
   "source": [
    "df_country.get_group('Afghanistan')"
   ]
  },
  {
   "cell_type": "code",
   "execution_count": null,
   "metadata": {},
   "outputs": [],
   "source": [
    "colombia = df_country.get_group('Colombia')"
   ]
  },
  {
   "cell_type": "code",
   "execution_count": null,
   "metadata": {},
   "outputs": [],
   "source": [
    "colombia.head()"
   ]
  },
  {
   "cell_type": "code",
   "execution_count": null,
   "metadata": {},
   "outputs": [],
   "source": [
    "ukraine = df_country.get_group('Ukraine')"
   ]
  },
  {
   "cell_type": "code",
   "execution_count": null,
   "metadata": {},
   "outputs": [],
   "source": [
    "ukraine.head()"
   ]
  },
  {
   "cell_type": "code",
   "execution_count": null,
   "metadata": {},
   "outputs": [],
   "source": [
    "print(ukraine.describe())"
   ]
  },
  {
   "cell_type": "code",
   "execution_count": null,
   "metadata": {},
   "outputs": [],
   "source": [
    "plt.plot(colombia['Year'], colombia['Men'])\n",
    "#plt.xlabel(colombia['Year'])\n",
    "#plt.ylabel(colombia['Men'])\n",
    "plt.show()"
   ]
  },
  {
   "cell_type": "code",
   "execution_count": null,
   "metadata": {},
   "outputs": [],
   "source": [
    "plt.subplot(1,2,1)\n",
    "plt.plot(colombia['Year'], colombia['Men'])\n",
    "plt.title('Locombia')\n",
    "\n",
    "plt.subplot(1,2,2)\n",
    "plt.plot(ukraine['Year'], ukraine['Men'])\n",
    "plt.title('Ukraine')\n",
    "#plt.xlabel(colombia['Year'])\n",
    "#plt.ylabel(colombia['Men'])\n",
    "plt.show()"
   ]
  },
  {
   "cell_type": "code",
   "execution_count": null,
   "metadata": {},
   "outputs": [],
   "source": [
    "fig = plt.figure(figsize=(10,7))\n",
    "fig.suptitle('Life expectancy Colombia - Ukraine', fontsize=14, fontweight='bold')\n",
    "plt.plot(colombia['Year'], colombia['Men'],'--', color='blue', label = 'Colombia - Men', linewidth=2)\n",
    "plt.plot(colombia['Year'], colombia['Women'], '--', color='red', label = 'Colombia - Women', linewidth=2)\n",
    "plt.plot(ukraine['Year'], ukraine['Men'], ':', color='green', label = 'Ukraine -  Men', linewidth=2)\n",
    "plt.plot(ukraine['Year'], ukraine['Women'],':', color='orange', label = 'Ukraine - Women', linewidth=2)\n",
    "plt.ylabel('Life expectancy (years)', fontsize = 12)\n",
    "plt.xlabel('Year', fontsize = 12)\n",
    "plt.legend(loc='lower right', frameon=True)\n",
    "plt.style.use('ggplot')\n",
    "#why is it showing both from 1950?\n",
    "plt.show()"
   ]
  },
  {
   "cell_type": "code",
   "execution_count": null,
   "metadata": {},
   "outputs": [],
   "source": []
  },
  {
   "cell_type": "code",
   "execution_count": null,
   "metadata": {},
   "outputs": [],
   "source": []
  }
 ],
 "metadata": {
  "kernelspec": {
   "display_name": "Python 3",
   "language": "python",
   "name": "python3"
  },
  "language_info": {
   "codemirror_mode": {
    "name": "ipython",
    "version": 3
   },
   "file_extension": ".py",
   "mimetype": "text/x-python",
   "name": "python",
   "nbconvert_exporter": "python",
   "pygments_lexer": "ipython3",
   "version": "3.6.8"
  }
 },
 "nbformat": 4,
 "nbformat_minor": 2
}
